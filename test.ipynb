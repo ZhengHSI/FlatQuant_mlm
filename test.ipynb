{
 "cells": [
  {
   "cell_type": "code",
   "execution_count": 22,
   "metadata": {},
   "outputs": [
    {
     "name": "stderr",
     "output_type": "stream",
     "text": [
      "Special tokens have been added in the vocabulary, make sure the associated word embeddings are fine-tuned or trained.\n"
     ]
    },
    {
     "name": "stdout",
     "output_type": "stream",
     "text": [
      "i 9430\n",
      "j 11478\n",
      "i 35583\n",
      "j 37631\n",
      "i 29072\n",
      "j 31120\n"
     ]
    }
   ],
   "source": [
    "import os\n",
    "import pickle\n",
    "import datasets\n",
    "import random\n",
    "import transformers\n",
    "traindata = datasets.load_dataset(\"/home/workspace/code/git/FlatQuant_mlm/datasets/wikitext\", split=\"validation\")\n",
    "tokenizer = transformers.AutoTokenizer.from_pretrained(\"/home/workspace/model/MiniCPM-V-1B-sft-v2-1B\", trust_remote_code=True)\n",
    "trainenc = tokenizer(\"\\n\\n\".join(traindata['text'][:1000]), return_tensors='pt')\n",
    "seqlen = 2048\n",
    "# random.seed(seed)\n",
    "trainloader = []\n",
    "for _ in range(3):\n",
    "    i = random.randint(0, trainenc.input_ids.shape[1] - seqlen - 1)\n",
    "    j = i + seqlen\n",
    "    print(\"i\",i)\n",
    "    print(\"j\",j)\n",
    "    inp = trainenc.input_ids\n",
    "    tar = inp.clone()\n",
    "    tar[:, :-1] = -100\n",
    "    trainloader.append((inp, tar))"
   ]
  },
  {
   "cell_type": "code",
   "execution_count": 27,
   "metadata": {},
   "outputs": [
    {
     "name": "stderr",
     "output_type": "stream",
     "text": [
      "Loading checkpoint shards: 100%|██████████| 4/4 [00:27<00:00,  6.94s/it]\n"
     ]
    }
   ],
   "source": [
    "model = transformers.AutoModel.from_pretrained(\"/home/workspace/model/minicpm-v-2_6\", \n",
    "                                                trust_remote_code=True,\n",
    "                                                attn_implementation='sdpa', \n",
    "                                                torch_dtype='auto') "
   ]
  },
  {
   "cell_type": "code",
   "execution_count": 1,
   "metadata": {},
   "outputs": [
    {
     "name": "stderr",
     "output_type": "stream",
     "text": [
      "/opt/conda/envs/lmquant/lib/python3.11/site-packages/tqdm/auto.py:21: TqdmWarning: IProgress not found. Please update jupyter and ipywidgets. See https://ipywidgets.readthedocs.io/en/stable/user_install.html\n",
      "  from .autonotebook import tqdm as notebook_tqdm\n",
      "Downloading [config.json]: 100%|██████████| 701/701 [00:00<00:00, 3.25kB/s]\n",
      "Downloading [configuration.json]: 100%|██████████| 46.0/46.0 [00:00<00:00, 115B/s]\n",
      "Downloading [configuration_minicpm.py]: 100%|██████████| 9.54k/9.54k [00:00<00:00, 51.2kB/s]\n",
      "Downloading [generation_config.json]: 100%|██████████| 140/140 [00:00<00:00, 344B/s]\n",
      "Downloading [modeling_minicpm.py]: 100%|██████████| 66.5k/66.5k [00:00<00:00, 286kB/s]\n",
      "Downloading [pytorch_model.bin]: 100%|██████████| 2.74G/2.74G [00:26<00:00, 110MB/s] \n",
      "Downloading [README.md]: 100%|██████████| 1.40k/1.40k [00:00<00:00, 7.67kB/s]\n",
      "Downloading [special_tokens_map.json]: 100%|██████████| 414/414 [00:00<00:00, 803B/s]\n",
      "Downloading [tokenizer.json]: 100%|██████████| 3.50M/3.50M [00:00<00:00, 6.63MB/s]\n",
      "Downloading [tokenizer_config.json]: 100%|██████████| 932/932 [00:00<00:00, 4.75kB/s]\n"
     ]
    }
   ],
   "source": [
    "#模型下载\n",
    "from modelscope import snapshot_download\n",
    "model_dir = snapshot_download('OpenBMB/MiniCPM-1B-sft-llama-format')"
   ]
  },
  {
   "cell_type": "code",
   "execution_count": 29,
   "metadata": {},
   "outputs": [],
   "source": [
    "model.processor"
   ]
  },
  {
   "cell_type": "code",
   "execution_count": 27,
   "metadata": {},
   "outputs": [],
   "source": [
    "import os\n",
    "import pickle\n",
    "import datasets\n",
    "import random\n",
    "import transformers\n",
    "from PIL import Image\n",
    "import numpy as np\n",
    "def get_mme(nsamples, seed, seqlen):\n",
    "    import torch.nn.functional as F\n",
    "    dataset = datasets.load_from_disk(\"/home/workspace/dataset/ScienceQA-2\")[\"train\"]\n",
    "    dataset = dataset.shuffle(seed=seed)\n",
    "    processor = transformers.AutoProcessor.from_pretrained(\"/home/workspace/model/MiniCPM-V-1B-sft-v2-1B\", trust_remote_code=True)\n",
    "    rng = random.Random(42)\n",
    "    samples, num_tokens = [], 0\n",
    "    prompts_lists = []\n",
    "    input_images_lists = []\n",
    "    for index, _data in enumerate(dataset):\n",
    "        promt = _data[\"question\"]\n",
    "        image_file = _data[\"image\"]\n",
    "        image = np.array(image_file)\n",
    "        if image_file is None:\n",
    "            nsamples = nsamples+1\n",
    "            break\n",
    "        msgs = [{'role': 'user', 'content': \"(<image>./</image>)\\n\"+ promt}]\n",
    "        prompts_lists.append(processor.tokenizer.apply_chat_template(msgs, tokenize=False, add_generation_prompt=True))\n",
    "        input_images_lists.append([image])\n",
    "        if index >= nsamples:\n",
    "            break\n",
    "        inputs = processor(\n",
    "            prompts_lists,\n",
    "            input_images_lists,\n",
    "            return_tensors=\"pt\",\n",
    "            max_length=8192\n",
    "        )[\"input_ids\"]\n",
    "    # return inputs\n",
    "    trainloader = []\n",
    "    \n",
    "    for i in range(inputs.size(0)):  # tensor.size(0) == 33\n",
    "        inp = inputs.select(0, i).unsqueeze(0)  # 获取第 i 行并增加一个维度\n",
    "        pad_size = seqlen - inp.size(1)\n",
    "        # 在右侧填充，左边填充 0，右边填充 pad_size 个值\n",
    "        # inp = F.pad(inp, (pad_size,0), \"constant\", 0)\n",
    "        tar = inp.clone()\n",
    "        tar[:, :-1] = -100\n",
    "        trainloader.append((inp, tar))\n",
    "\n",
    "    return trainloader"
   ]
  },
  {
   "cell_type": "code",
   "execution_count": 3,
   "metadata": {},
   "outputs": [],
   "source": [
    "import os\n",
    "import pickle\n",
    "import datasets\n",
    "import random\n",
    "import transformers\n",
    "from PIL import Image\n",
    "import numpy as np\n",
    "import torch\n",
    "def get_mme(nsamples, seed, seqlen):\n",
    "    import torch.nn.functional as F\n",
    "    dataset = datasets.load_from_disk(\"/home/workspace/dataset/MME\")[\"test\"]\n",
    "    dataset = dataset.shuffle(seed=seed)\n",
    "    processor = transformers.AutoProcessor.from_pretrained(\"/home/workspace/model/MiniCPM-Llama3-V-2_5\", trust_remote_code=True)\n",
    "    rng = random.Random(42)\n",
    "    samples, num_tokens = [], 0\n",
    "    inputs_list = []\n",
    "    for index, _data in enumerate(dataset):\n",
    "        promt = _data[\"question\"]\n",
    "        image = _data[\"image\"]\n",
    "        msgs = [{'role': 'user', 'content': \"(<image>./</image>)\\n\"+ promt}]\n",
    "        prompts = processor.tokenizer.apply_chat_template(msgs, tokenize=False, add_generation_prompt=True)\n",
    "        if index >= nsamples:\n",
    "            break\n",
    "\n",
    "        inputs = processor(\n",
    "            prompts,\n",
    "            image,\n",
    "            return_tensors=\"pt\",\n",
    "            max_length=8192\n",
    "        )[\"input_ids\"]\n",
    "    \n",
    "        inputs_list.append(inputs)\n",
    "\n",
    "    trainloader = []\n",
    "    for i in inputs_list:  # tensor.size(0) == 33\n",
    "        inp = inputs\n",
    "        pad_size = seqlen - inp.size(1)\n",
    "        # 在右侧填充，左边填充 0，右边填充 pad_size 个值\n",
    "        inp = F.pad(inp, (pad_size,0), \"constant\", 0)\n",
    "        tar = inp.clone()\n",
    "        tar[:, :-1] = -100\n",
    "        trainloader.append((inp, tar))\n",
    "\n",
    "    return trainloader\n"
   ]
  },
  {
   "cell_type": "code",
   "execution_count": 51,
   "metadata": {},
   "outputs": [],
   "source": [
    "import os\n",
    "import pickle\n",
    "import datasets\n",
    "import random\n",
    "import transformers\n",
    "from PIL import Image\n",
    "import numpy as np\n",
    "import torch\n",
    "def get_mme(nsamples, seed, seqlen):\n",
    "    import torch.nn.functional as F\n",
    "    dataset = datasets.load_from_disk(\"/home/workspace/dataset/ScienceQA-2\")[\"train\"]\n",
    "    dataset = dataset.shuffle(seed=seed)\n",
    "    processor = transformers.AutoProcessor.from_pretrained(\"/home/workspace/model/MiniCPM-Llama3-V-2_5\", trust_remote_code=True)\n",
    "    rng = random.Random(42)\n",
    "    samples, num_tokens = [], 0\n",
    "    inputs_list = []\n",
    "    for index, _data in enumerate(dataset):\n",
    "        promt = _data[\"question\"]\n",
    "        image = _data[\"image\"]\n",
    "        # image = np.array(image_file)\n",
    "        if image is None:\n",
    "            nsamples = nsamples + 1\n",
    "            continue\n",
    "        msgs = [{'role': 'user', 'content': \"(<image>./</image>)\\n\"+ promt}]\n",
    "        prompts = processor.tokenizer.apply_chat_template(msgs, tokenize=False, add_generation_prompt=True)\n",
    "        if index >= nsamples:\n",
    "            break\n",
    "\n",
    "        inputs = processor(\n",
    "            prompts,\n",
    "            image,\n",
    "            return_tensors=\"pt\",\n",
    "            max_length=8192\n",
    "        )[\"input_ids\"]\n",
    "    \n",
    "        inputs_list.append(inputs)\n",
    "\n",
    "    trainloader = []\n",
    "    for i in inputs_list:  # tensor.size(0) == 33\n",
    "        inp = inputs\n",
    "        pad_size = seqlen - inp.size(1)\n",
    "        # 在右侧填充，左边填充 0，右边填充 pad_size 个值\n",
    "        inp = F.pad(inp, (pad_size,0), \"constant\", 0)\n",
    "        tar = inp.clone()\n",
    "        tar[:, :-1] = -100\n",
    "        trainloader.append((inp, tar))\n",
    "\n",
    "    return trainloader\n"
   ]
  },
  {
   "cell_type": "code",
   "execution_count": 4,
   "metadata": {},
   "outputs": [
    {
     "name": "stderr",
     "output_type": "stream",
     "text": [
      "Special tokens have been added in the vocabulary, make sure the associated word embeddings are fine-tuned or trained.\n"
     ]
    }
   ],
   "source": [
    "a = get_mme(32, 0, 1024)"
   ]
  },
  {
   "cell_type": "code",
   "execution_count": 5,
   "metadata": {},
   "outputs": [
    {
     "name": "stdout",
     "output_type": "stream",
     "text": [
      "torch.Size([1, 1024])\n",
      "torch.Size([1, 1024])\n",
      "torch.Size([1, 1024])\n",
      "torch.Size([1, 1024])\n",
      "torch.Size([1, 1024])\n",
      "torch.Size([1, 1024])\n",
      "torch.Size([1, 1024])\n",
      "torch.Size([1, 1024])\n",
      "torch.Size([1, 1024])\n",
      "torch.Size([1, 1024])\n",
      "torch.Size([1, 1024])\n",
      "torch.Size([1, 1024])\n",
      "torch.Size([1, 1024])\n",
      "torch.Size([1, 1024])\n",
      "torch.Size([1, 1024])\n",
      "torch.Size([1, 1024])\n",
      "torch.Size([1, 1024])\n",
      "torch.Size([1, 1024])\n",
      "torch.Size([1, 1024])\n",
      "torch.Size([1, 1024])\n",
      "torch.Size([1, 1024])\n",
      "torch.Size([1, 1024])\n",
      "torch.Size([1, 1024])\n",
      "torch.Size([1, 1024])\n",
      "torch.Size([1, 1024])\n",
      "torch.Size([1, 1024])\n",
      "torch.Size([1, 1024])\n",
      "torch.Size([1, 1024])\n",
      "torch.Size([1, 1024])\n",
      "torch.Size([1, 1024])\n",
      "torch.Size([1, 1024])\n",
      "torch.Size([1, 1024])\n"
     ]
    }
   ],
   "source": [
    "for i in a:\n",
    "    print(a[0][1].shape)"
   ]
  }
 ],
 "metadata": {
  "kernelspec": {
   "display_name": "flatquant",
   "language": "python",
   "name": "python3"
  },
  "language_info": {
   "codemirror_mode": {
    "name": "ipython",
    "version": 3
   },
   "file_extension": ".py",
   "mimetype": "text/x-python",
   "name": "python",
   "nbconvert_exporter": "python",
   "pygments_lexer": "ipython3",
   "version": "3.11.9"
  }
 },
 "nbformat": 4,
 "nbformat_minor": 2
}
